{
 "cells": [
  {
   "cell_type": "code",
   "execution_count": 16,
   "metadata": {},
   "outputs": [],
   "source": [
    "from langchain.chat_models import ChatOpenAI\n",
    "from langchain.prompts import ChatPromptTemplate\n",
    "from langchain.callbacks import StreamingStdOutCallbackHandler\n",
    "\n",
    "chat = ChatOpenAI(temperature=0.1, streaming=True, callbacks=[ StreamingStdOutCallbackHandler()])\n",
    "\n",
    "templatePoem = ChatPromptTemplate.from_messages([\n",
    "    (\"system\", \"You are a famous poet. Over the years, many masterpieces have been created.\"),\n",
    "    (\"human\", \"Please write a poem for {language} programing language.\"),\n",
    "])\n",
    "\n",
    "chainPoem = templatePoem | chat\n",
    "# poem = chainPoem.invoke({'language':'python'})\n"
   ]
  },
  {
   "cell_type": "code",
   "execution_count": 17,
   "metadata": {},
   "outputs": [],
   "source": [
    "from langchain.schema import BaseOutputParser\n",
    "\n",
    "class PoemExplainParser(BaseOutputParser):\n",
    "    def parse(self, output):\n",
    "\n",
    "        return output['choices'][0]['text']\n",
    "\n",
    "templateExplain = ChatPromptTemplate.from_messages([\n",
    "    (\"system\", \"You are a famous poetry commentator. You have analyzed and interpreted many masterpieces over the years.\"),\n",
    "    (\"human\", \"Please interpret following poem: {poem}\"),\n",
    "])\n",
    "\n",
    "chainExplain = templateExplain | chat \n",
    "\n",
    "# chainExplain.invoke({'poem':poem})"
   ]
  },
  {
   "cell_type": "code",
   "execution_count": 18,
   "metadata": {},
   "outputs": [
    {
     "name": "stdout",
     "output_type": "stream",
     "text": [
      "In the realm of code, where languages reign,\n",
      "There's one that stands above the rest, so plain.\n",
      "Python, with its elegance and grace,\n",
      "A language that all programmers embrace.\n",
      "\n",
      "Its syntax clean, its readability clear,\n",
      "No curly braces to cause us fear.\n",
      "Indentation rules, a unique style,\n",
      "Making code writing all the while.\n",
      "\n",
      "From web development to data science,\n",
      "Python's versatility is immense.\n",
      "With libraries galore at our command,\n",
      "We can create wonders, so grand.\n",
      "\n",
      "For loops and functions, lists and dicts,\n",
      "Python's power never conflicts.\n",
      "A language so simple, yet so profound,\n",
      "In every programmer's heart, it's found.\n",
      "\n",
      "So here's to Python, our beloved friend,\n",
      "A language that will never end.\n",
      "In the world of code, it will forever shine,\n",
      "A masterpiece of the programming line.This poem beautifully captures the essence and significance of the Python programming language. The poet portrays Python as a superior language that is revered by programmers for its elegance, simplicity, and versatility.\n",
      "\n",
      "The opening lines set the stage by describing the realm of code where Python reigns supreme. The poet praises Python for its elegance and grace, highlighting how it is embraced by programmers of all levels. The mention of Python's clean syntax and readability, as well as its unique indentation rules, emphasizes its user-friendly nature and ease of use.\n",
      "\n",
      "The poem goes on to celebrate Python's wide range of applications, from web development to data science, showcasing its immense versatility. The reference to the abundance of libraries available for Python underscores its power and capability to create wonders in the world of programming.\n",
      "\n",
      "The poet also acknowledges Python's strength in handling various programming concepts such as loops, functions, lists, and dictionaries without any conflicts. This further emphasizes Python's simplicity and efficiency in solving complex problems.\n",
      "\n",
      "The closing lines express gratitude and admiration for Python as a beloved friend that will continue to shine in the world of code. The poet concludes by declaring Python as a timeless masterpiece in the realm of programming, highlighting its enduring impact and importance.\n",
      "\n",
      "Overall, this poem serves as a heartfelt tribute to Python, capturing the essence of its appeal and influence in the programming community."
     ]
    },
    {
     "data": {
      "text/plain": [
       "AIMessageChunk(content=\"This poem beautifully captures the essence and significance of the Python programming language. The poet portrays Python as a superior language that is revered by programmers for its elegance, simplicity, and versatility.\\n\\nThe opening lines set the stage by describing the realm of code where Python reigns supreme. The poet praises Python for its elegance and grace, highlighting how it is embraced by programmers of all levels. The mention of Python's clean syntax and readability, as well as its unique indentation rules, emphasizes its user-friendly nature and ease of use.\\n\\nThe poem goes on to celebrate Python's wide range of applications, from web development to data science, showcasing its immense versatility. The reference to the abundance of libraries available for Python underscores its power and capability to create wonders in the world of programming.\\n\\nThe poet also acknowledges Python's strength in handling various programming concepts such as loops, functions, lists, and dictionaries without any conflicts. This further emphasizes Python's simplicity and efficiency in solving complex problems.\\n\\nThe closing lines express gratitude and admiration for Python as a beloved friend that will continue to shine in the world of code. The poet concludes by declaring Python as a timeless masterpiece in the realm of programming, highlighting its enduring impact and importance.\\n\\nOverall, this poem serves as a heartfelt tribute to Python, capturing the essence of its appeal and influence in the programming community.\")"
      ]
     },
     "execution_count": 18,
     "metadata": {},
     "output_type": "execute_result"
    }
   ],
   "source": [
    "chain = {'poem':chainPoem} | chainExplain\n",
    "\n",
    "chain.invoke({'language':'python'})"
   ]
  }
 ],
 "metadata": {
  "kernelspec": {
   "display_name": "gpt",
   "language": "python",
   "name": "python3"
  },
  "language_info": {
   "codemirror_mode": {
    "name": "ipython",
    "version": 3
   },
   "file_extension": ".py",
   "mimetype": "text/x-python",
   "name": "python",
   "nbconvert_exporter": "python",
   "pygments_lexer": "ipython3",
   "version": "3.11.11"
  }
 },
 "nbformat": 4,
 "nbformat_minor": 2
}
